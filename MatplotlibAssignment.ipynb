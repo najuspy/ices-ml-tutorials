{
  "nbformat": 4,
  "nbformat_minor": 0,
  "metadata": {
    "colab": {
      "name": "MatplotlibAssignment.ipynb",
      "provenance": []
    },
    "kernelspec": {
      "name": "python3",
      "display_name": "Python 3"
    }
  },
  "cells": [
    {
      "cell_type": "markdown",
      "metadata": {
        "id": "jF5tOzjZfNis"
      },
      "source": [
        "**1. Draw a line plot of given data below with the following details:**\n",
        "\n",
        "* Add grid to the plot\n",
        "* Add the title as \"Visualizing dependency of x_label and y_label\"\n",
        "* Add xlabel as x_label\n",
        "* Add ylabel as y_label\n",
        "* Add legend consisting of x_label and y_label\n"
      ]
    },
    {
      "cell_type": "code",
      "metadata": {
        "id": "DsIQ7Ti7e40W"
      },
      "source": [
        "import matplotlib.pyplot as pyplot\n",
        "\n",
        "# data\n",
        "a = [2,4,6,8,10,11,11.5,11.7]\n",
        "b = [1,1.5,2,2.5,3,3.5,4,4.5]\n",
        "\n",
        "#your code starts here\n",
        "\n",
        "#your code ends here"
      ],
      "execution_count": null,
      "outputs": []
    },
    {
      "cell_type": "markdown",
      "metadata": {
        "id": "2UXXsnRSboLc"
      },
      "source": [
        "**2. Draw a scatter  plot of given data below with the following details:**\n",
        "\n",
        "* Add grid to the plot\n",
        "* Add the title as \"Visualizing dependency of x_label and y_label\"\n",
        "* Add xlabel as x_label\n",
        "* Add ylabel as y_label\n",
        "* Add legend consisting of x_label and y_label"
      ]
    },
    {
      "cell_type": "code",
      "metadata": {
        "id": "d0QQD0R_bATb"
      },
      "source": [
        "import numpy as np\n",
        "import matplotlib.pyplot as plt\n",
        "\n",
        "\n",
        "#generating some linear looking data \n",
        "np.random.seed(0)\n",
        "x_label  = 2 * np.random.rand(100,1)\n",
        "y_label = 4 + 3 * x_label + np.random.rand(100,1)\n",
        "\n",
        "#answer starts here\n",
        "# plt.scatter(x_label, y_label, color = 'r')\n",
        "#answer ends here"
      ],
      "execution_count": null,
      "outputs": []
    },
    {
      "cell_type": "markdown",
      "metadata": {
        "id": "ZvU78tc-gL2N"
      },
      "source": [
        "**3. Draw the bar graph with the given data and add the following details:**\n",
        "\n",
        "* Add the title as \"Dummy Movies Info\"\n",
        "* Add xlabel as Year\n",
        "* Add ylabel as Number of Movies Released\n"
      ]
    },
    {
      "cell_type": "code",
      "metadata": {
        "id": "DLQGNSnRekXc"
      },
      "source": [
        "from matplotlib import pyplot as plt\n",
        " \n",
        "x = ['2016','2017','2018', '2019', '202']\n",
        "y = [1252,1632,1692, 1856, 865]\n",
        " \n",
        "#your code starts here\n",
        "\n",
        "#your code ends here"
      ],
      "execution_count": null,
      "outputs": []
    },
    {
      "cell_type": "markdown",
      "metadata": {
        "id": "qJT53mGfmNvz"
      },
      "source": [
        "**4. Draw pie plot with the given data**\n",
        "* Use labels to label the sectors\n",
        "* Sizes for the sector areas\n"
      ]
    },
    {
      "cell_type": "code",
      "metadata": {
        "id": "_GKyLJQIgo3V"
      },
      "source": [
        "import matplotlib.pyplot as plt\n",
        " \n",
        "# Pie chart, where the slices will be ordered and plotted counter-clockwise:\n",
        "labels = 'Potato', 'Steak', 'Bread', 'Milk'\n",
        "sizes = [10, 25, 45, 20]\n",
        "explode = (0.01, 0.01, 0.01, 0.1) # explode 'Milk' a little away\n",
        "\n",
        "#your code starts here\n",
        "\n",
        "#your code ends here"
      ],
      "execution_count": null,
      "outputs": []
    },
    {
      "cell_type": "markdown",
      "metadata": {
        "id": "oQp2k2bJnMlx"
      },
      "source": [
        "**5. Draw Histogram with given data**\n",
        "* Add xlabel as \"values\" and ylabel as \"count\"\n",
        "* Add title as \"Histogram Example\"\n"
      ]
    },
    {
      "cell_type": "code",
      "metadata": {
        "id": "oBAFfCmqmM7p"
      },
      "source": [
        "from matplotlib import pyplot as plt\n",
        "import random\n",
        "\n",
        "x = random.sample(range(1, 5000), 1000)\n",
        "num_bins = 100\n",
        "\n",
        "#your code starts here\n",
        "\n",
        "#your code ends here\n"
      ],
      "execution_count": null,
      "outputs": []
    },
    {
      "cell_type": "markdown",
      "metadata": {
        "id": "YBSIj1wv3hTV"
      },
      "source": [
        "**7. Use subplot function to plot given sine and cosine functions**\n",
        "* First plot them side side by horizontally i.e., two coloumns and a single row\n",
        "* Second plot them up and down i.e., single coloumn and two rows"
      ]
    },
    {
      "cell_type": "code",
      "metadata": {
        "id": "5LNlOYWk4OxT"
      },
      "source": [
        "import numpy as np \n",
        "import matplotlib.pyplot as plt  \n",
        "   \n",
        "# Compute the x and y coordinates for points on sine and cosine curves \n",
        "x = np.arange(0, 3 * np.pi, 0.1) \n",
        "y_sin = np.sin(x) \n",
        "y_cos = np.cos(x) \n",
        "\n",
        "#your answer starts here\n",
        "\n",
        "#your answer ends here"
      ],
      "execution_count": null,
      "outputs": []
    },
    {
      "cell_type": "markdown",
      "metadata": {
        "id": "BBI4L3tC4qBt"
      },
      "source": [
        "**Draw scatter plot for the given 2D data and add required details as well.**\n",
        "\n"
      ]
    },
    {
      "cell_type": "code",
      "metadata": {
        "id": "G4FxD00O4nym"
      },
      "source": [
        "import matplotlib.pyplot as plt\n",
        "\n",
        "np.random.seed(0)\n",
        "x  = 2 * np.random.rand(100,1)\n",
        "y = 4 + 3 * np.random.rand(100,1)\n",
        "\n",
        "#your answer starts here\n",
        "\n",
        "#your answer ends here"
      ],
      "execution_count": null,
      "outputs": []
    }
  ]
}