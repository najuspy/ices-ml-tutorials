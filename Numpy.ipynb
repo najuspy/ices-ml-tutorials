{
  "nbformat": 4,
  "nbformat_minor": 0,
  "metadata": {
    "colab": {
      "name": "Numpy.ipynb",
      "provenance": [],
      "collapsed_sections": []
    },
    "kernelspec": {
      "name": "python3",
      "display_name": "Python 3"
    }
  },
  "cells": [
    {
      "cell_type": "markdown",
      "metadata": {
        "id": "IK_3UDWnvweY",
        "colab_type": "text"
      },
      "source": [
        "##What is Numpy?\n",
        "\n",
        "\n",
        "*   The numerical python library used for working with arrays.\n",
        "*   Created in 2005 by Travis Oliphant\n",
        "*   Written partially in Python, but most of the parts that require fast computation are written in C or C++.\n",
        "\n",
        "\n",
        "\n",
        "\n",
        "\n",
        ". \n",
        "\n",
        "\n",
        "\n",
        "\n"
      ]
    },
    {
      "cell_type": "markdown",
      "metadata": {
        "id": "zB_hR0JNzFXV",
        "colab_type": "text"
      },
      "source": [
        "##Why use Numpy?\n",
        "*   Has functions for working in domain of linear algebra, fourier transform, and matrices.\n",
        "*   Aims to provide an array object that is up to 50x times faster than traditional Python lists.\n",
        "*   Forms the foundation of Machine Learning Stack\n"
      ]
    },
    {
      "cell_type": "markdown",
      "metadata": {
        "id": "vQvbsCEkzLRI",
        "colab_type": "text"
      },
      "source": [
        "### Import Numpy\n",
        "Numpy package is imported as alias **np**"
      ]
    },
    {
      "cell_type": "code",
      "metadata": {
        "id": "-lGBCZp5uzy6",
        "colab_type": "code",
        "colab": {}
      },
      "source": [
        "import numpy as np\n",
        "# The list type data type which we work with in numpy is called n-dim array. "
      ],
      "execution_count": null,
      "outputs": []
    },
    {
      "cell_type": "markdown",
      "metadata": {
        "id": "2huqauWDvVo1",
        "colab_type": "text"
      },
      "source": [
        "## Creating an 1-D Array(Vector)\n"
      ]
    },
    {
      "cell_type": "code",
      "metadata": {
        "id": "1DTes34k0QCl",
        "colab_type": "code",
        "colab": {
          "base_uri": "https://localhost:8080/",
          "height": 50
        },
        "outputId": "e7cc7034-edb6-408b-b4ca-204aa820a374"
      },
      "source": [
        "# There are many ways to create a Vector. The first one is with use of python list.\n",
        "\n",
        "#Row Vector\n",
        "list_row = [2,6,4,8,2,1,4,3]\n",
        "array_row = np.array(list_row)\n",
        "print(array_row)\n",
        "print('Shape of Matrix is',array_row.shape)"
      ],
      "execution_count": null,
      "outputs": [
        {
          "output_type": "stream",
          "text": [
            "[2 6 4 8 2 1 4 3]\n",
            "Shape of Matrix is (8,)\n"
          ],
          "name": "stdout"
        }
      ]
    },
    {
      "cell_type": "code",
      "metadata": {
        "id": "jzXLKBbx1Pt0",
        "colab_type": "code",
        "colab": {
          "base_uri": "https://localhost:8080/",
          "height": 168
        },
        "outputId": "ea5abe88-3e44-4487-8c7d-e71164c2f429"
      },
      "source": [
        "#Column Vector\n",
        "list_col =[[2],[6],[4],[8],[2],[1],[4],[3]]\n",
        "array_col = np.array(list_col)\n",
        "print(array_col)\n",
        "print('Shape of Matrix is',array_col.shape)"
      ],
      "execution_count": null,
      "outputs": [
        {
          "output_type": "stream",
          "text": [
            "[[2]\n",
            " [6]\n",
            " [4]\n",
            " [8]\n",
            " [2]\n",
            " [1]\n",
            " [4]\n",
            " [3]]\n",
            "Shape of Matrix is (8, 1)\n"
          ],
          "name": "stdout"
        }
      ]
    },
    {
      "cell_type": "markdown",
      "metadata": {
        "id": "TnLvbW3r3Nxa",
        "colab_type": "text"
      },
      "source": [
        "## Creating a 2D array (Matrix)"
      ]
    },
    {
      "cell_type": "code",
      "metadata": {
        "id": "0PRwOJtI3nxR",
        "colab_type": "code",
        "colab": {
          "base_uri": "https://localhost:8080/",
          "height": 151
        },
        "outputId": "321855fa-4c79-466a-f933-106ff7877f24"
      },
      "source": [
        "\n",
        "# Similiarly, Matrix is formed using list of list.\n",
        "list_mat = [[2,6,4],[8,2,1],[1,4,3]] \n",
        "\n",
        "array_mat = np.array(list_mat)\n",
        "\n",
        "print(array_mat)\n",
        "# Printing type of arr object\n",
        "print(\"Array is of type: \", type(array_mat))\n",
        " \n",
        "# Printing array dimensions (axes)\n",
        "print(\"No. of dimensions: \", array_mat.ndim)\n",
        " \n",
        "# Printing shape of array\n",
        "print(\"Shape of array: \", array_mat.shape)\n",
        " \n",
        "# Printing size (total number of elements) of array\n",
        "print(\"Size of array: \", array_mat.size)\n",
        " \n",
        "# Printing type of elements in array\n",
        "print(\"Array stores elements of type: \", array_mat.dtype)"
      ],
      "execution_count": null,
      "outputs": [
        {
          "output_type": "stream",
          "text": [
            "[[2 6 4]\n",
            " [8 2 1]\n",
            " [1 4 3]]\n",
            "Array is of type:  <class 'numpy.ndarray'>\n",
            "No. of dimensions:  2\n",
            "Shape of array:  (3, 3)\n",
            "Size of array:  9\n",
            "Array stores elements of type:  int64\n"
          ],
          "name": "stdout"
        }
      ]
    },
    {
      "cell_type": "markdown",
      "metadata": {
        "id": "B0lMYhKTSbZK",
        "colab_type": "text"
      },
      "source": [
        "**The elements of an array are originally unknown, but it's size is known. Hence, Numpy offers several functions to create arrays with initial placeholder content.**"
      ]
    },
    {
      "cell_type": "code",
      "metadata": {
        "id": "2lsp-A7p4nQE",
        "colab_type": "code",
        "colab": {
          "base_uri": "https://localhost:8080/",
          "height": 50
        },
        "outputId": "ce54fea1-f6f8-4fb8-d91f-d882dfa6c728"
      },
      "source": [
        "\n",
        "\n",
        "#returns a new array of specified size filled with zeros\n",
        "x_default = np.zeros((2, 2))\n",
        "\n",
        "# x_datatype_specified = np.zeros((2, 2), dtype=int)\n",
        "\n",
        "print (x_default)\n",
        "# print(x_datatype_specified)"
      ],
      "execution_count": null,
      "outputs": [
        {
          "output_type": "stream",
          "text": [
            "[[0. 0.]\n",
            " [0. 0.]]\n"
          ],
          "name": "stdout"
        }
      ]
    },
    {
      "cell_type": "code",
      "metadata": {
        "id": "bTcYWHqCThXT",
        "colab_type": "code",
        "colab": {
          "base_uri": "https://localhost:8080/",
          "height": 50
        },
        "outputId": "27ee2a0f-9c97-4cd8-beb1-a873e726cf0c"
      },
      "source": [
        "\n",
        "\n",
        "#returns a new array of specified size filled with ones\n",
        "x_default = np.ones((2, 2))\n",
        "\n",
        "# x_datatype_specified = np.ones((2, 2), dtype=int)\n",
        "\n",
        "print (x_default)\n",
        "# print(x_datatype_specified)"
      ],
      "execution_count": null,
      "outputs": [
        {
          "output_type": "stream",
          "text": [
            "[[1. 1.]\n",
            " [1. 1.]]\n"
          ],
          "name": "stdout"
        }
      ]
    },
    {
      "cell_type": "code",
      "metadata": {
        "id": "UUOTn3-UWBjI",
        "colab_type": "code",
        "colab": {
          "base_uri": "https://localhost:8080/",
          "height": 50
        },
        "outputId": "9cecf279-7176-487c-d1cc-77f532f55966"
      },
      "source": [
        "\n",
        "\n",
        "#returns a new array of specified size filled with random values\n",
        "x_default = np.empty((2, 3))\n",
        "\n",
        "# x_datatype_specified = np.empty((2, 3), dtype=int)\n",
        "\n",
        "print (x_default)\n",
        "# print(x_datatype_specified)"
      ],
      "execution_count": null,
      "outputs": [
        {
          "output_type": "stream",
          "text": [
            "[[2.31401614e-316 0.00000000e+000 0.00000000e+000]\n",
            " [0.00000000e+000 0.00000000e+000 0.00000000e+000]]\n"
          ],
          "name": "stdout"
        }
      ]
    },
    {
      "cell_type": "markdown",
      "metadata": {
        "id": "Sux3YPt5U34Y",
        "colab_type": "text"
      },
      "source": [
        "**Here we will see how to create an array from numerical ranges**"
      ]
    },
    {
      "cell_type": "code",
      "metadata": {
        "id": "gIuq4ejMUnAB",
        "colab_type": "code",
        "colab": {
          "base_uri": "https://localhost:8080/",
          "height": 34
        },
        "outputId": "c65ff654-4ecb-447c-b499-051db6ae633c"
      },
      "source": [
        "\n",
        "x = np.arange(5)\n",
        "print (x)\n"
      ],
      "execution_count": null,
      "outputs": [
        {
          "output_type": "stream",
          "text": [
            "[0 1 2 3 4]\n"
          ],
          "name": "stdout"
        }
      ]
    },
    {
      "cell_type": "code",
      "metadata": {
        "id": "w_pZjzZtVFHX",
        "colab_type": "code",
        "colab": {
          "base_uri": "https://localhost:8080/",
          "height": 34
        },
        "outputId": "21e1ea5c-1370-4ecf-84d8-95cf3ce3837c"
      },
      "source": [
        "# start and stop parameters set\n",
        "import numpy as np\n",
        "x = np.arange(10,20,2)\n",
        "print (x)\n"
      ],
      "execution_count": null,
      "outputs": [
        {
          "output_type": "stream",
          "text": [
            "[10 12 14 16 18]\n"
          ],
          "name": "stdout"
        }
      ]
    },
    {
      "cell_type": "code",
      "metadata": {
        "id": "bCA6i_MeVNpo",
        "colab_type": "code",
        "colab": {
          "base_uri": "https://localhost:8080/",
          "height": 34
        },
        "outputId": "047c085e-e8da-4d9b-dc46-80671257128e"
      },
      "source": [
        "import numpy as np\n",
        "# function linspace that receives as an argument the number of elements that we want, instead of the step:\n",
        "x = np.linspace(0, 2, 9)\n",
        "\n",
        "print(x)"
      ],
      "execution_count": null,
      "outputs": [
        {
          "output_type": "stream",
          "text": [
            "[0.   0.25 0.5  0.75 1.   1.25 1.5  1.75 2.  ]\n"
          ],
          "name": "stdout"
        }
      ]
    },
    {
      "cell_type": "markdown",
      "metadata": {
        "id": "fxYWfcigZgmE",
        "colab_type": "text"
      },
      "source": [
        "#### Array Indexing\n",
        "Knowing the basics of array indexing is important for analysing and manipulating the array object.\n",
        "* Slicing\n",
        "* Integer array indexing\n",
        "* Boolean array indexing"
      ]
    },
    {
      "cell_type": "code",
      "metadata": {
        "id": "vVGzPn05YhbC",
        "colab_type": "code",
        "colab": {
          "base_uri": "https://localhost:8080/",
          "height": 84
        },
        "outputId": "ec033264-515f-4185-bbe3-057eb0091fe0"
      },
      "source": [
        "#Here we will discuss only slicing\n",
        "x = np.arange(10, 28, 2).reshape(3,3)\n",
        "\n",
        "print(x)\n",
        "#We will the perform slicing on the given array now\n",
        "\n",
        "y = x[:, 2]\n",
        "y = x[2, :]\n",
        "y = x[:2, :2]\n",
        "y = x[2:, 2:]\n",
        "print(y)"
      ],
      "execution_count": null,
      "outputs": [
        {
          "output_type": "stream",
          "text": [
            "[[10 12 14]\n",
            " [16 18 20]\n",
            " [22 24 26]]\n",
            "[[26]]\n"
          ],
          "name": "stdout"
        }
      ]
    },
    {
      "cell_type": "code",
      "metadata": {
        "id": "FOxxkQn0Zfs-",
        "colab_type": "code",
        "colab": {
          "base_uri": "https://localhost:8080/",
          "height": 101
        },
        "outputId": "a35e86ce-9c24-4ea2-d08c-1cc778083c91"
      },
      "source": [
        "x  = np.arange(120, 138, 2)\n",
        "print(x)\n",
        "\n",
        "y = x.reshape(3, 3)\n",
        "print('Reshaped the matrix into a 3*3 matrix: ')\n",
        "print(y)"
      ],
      "execution_count": null,
      "outputs": [
        {
          "output_type": "stream",
          "text": [
            "[120 122 124 126 128 130 132 134 136]\n",
            "Reshaped the matrix into a 3*3 matrix: \n",
            "[[120 122 124]\n",
            " [126 128 130]\n",
            " [132 134 136]]\n"
          ],
          "name": "stdout"
        }
      ]
    },
    {
      "cell_type": "code",
      "metadata": {
        "id": "eaZnUyZqcvy6",
        "colab_type": "code",
        "colab": {}
      },
      "source": [
        ""
      ],
      "execution_count": null,
      "outputs": []
    }
  ]
}