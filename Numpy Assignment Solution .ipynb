{
 "cells": [
  {
   "cell_type": "code",
   "execution_count": 1,
   "metadata": {},
   "outputs": [],
   "source": [
    "#Q NO 1\n",
    "import numpy as np"
   ]
  },
  {
   "cell_type": "code",
   "execution_count": 2,
   "metadata": {},
   "outputs": [
    {
     "name": "stdout",
     "output_type": "stream",
     "text": [
      "[0 1 2 3 4 5 6 7 8 9]\n",
      "(10,)\n",
      "1\n"
     ]
    }
   ],
   "source": [
    "#Q NO 2\n",
    "row_list= [0,1,2,3,4,5,6,7,8,9]\n",
    "row_vector = np.array(row_list)\n",
    "print(row_vector)\n",
    "print(row_vector.shape)\n",
    "print(row_vector.ndim)"
   ]
  },
  {
   "cell_type": "code",
   "execution_count": 3,
   "metadata": {},
   "outputs": [
    {
     "name": "stdout",
     "output_type": "stream",
     "text": [
      "[[ 0  1  2  3  4  5]\n",
      " [ 6  7  8  9 10 11]\n",
      " [12 13 14 15 16 17]\n",
      " [18 19 20 21 22 23]]\n",
      "(4, 6)\n",
      "2\n"
     ]
    }
   ],
   "source": [
    "#Q NO 3\n",
    "matrix = np.arange(24).reshape(4,6)\n",
    "print(matrix)\n",
    "print(matrix.shape)\n",
    "print(matrix.ndim)"
   ]
  },
  {
   "cell_type": "code",
   "execution_count": 4,
   "metadata": {},
   "outputs": [
    {
     "data": {
      "text/plain": [
       "array([[1., 0., 0.],\n",
       "       [0., 1., 0.],\n",
       "       [0., 0., 1.]])"
      ]
     },
     "execution_count": 4,
     "metadata": {},
     "output_type": "execute_result"
    }
   ],
   "source": [
    "#Q no 4\n",
    "np.identity(3)"
   ]
  },
  {
   "cell_type": "code",
   "execution_count": 5,
   "metadata": {},
   "outputs": [
    {
     "data": {
      "text/plain": [
       "array([[0., 0.],\n",
       "       [0., 0.],\n",
       "       [0., 0.]])"
      ]
     },
     "execution_count": 5,
     "metadata": {},
     "output_type": "execute_result"
    }
   ],
   "source": [
    "#Q NO 5\n",
    "np.zeros((3,2),dtype='float')"
   ]
  },
  {
   "cell_type": "code",
   "execution_count": 6,
   "metadata": {},
   "outputs": [
    {
     "data": {
      "text/plain": [
       "array([0., 0., 0., 0., 0., 0.])"
      ]
     },
     "execution_count": 6,
     "metadata": {},
     "output_type": "execute_result"
    }
   ],
   "source": [
    "#Q NO 6\n",
    "np.zeros(6)"
   ]
  },
  {
   "cell_type": "code",
   "execution_count": 7,
   "metadata": {},
   "outputs": [
    {
     "data": {
      "text/plain": [
       "array([[1., 0., 0.],\n",
       "       [0., 1., 0.],\n",
       "       [0., 0., 1.]])"
      ]
     },
     "execution_count": 7,
     "metadata": {},
     "output_type": "execute_result"
    }
   ],
   "source": [
    "#Q NO 7\n",
    "np.empty((3,3))"
   ]
  },
  {
   "cell_type": "code",
   "execution_count": 8,
   "metadata": {},
   "outputs": [
    {
     "data": {
      "text/plain": [
       "array([[[ 0,  1,  2,  3],\n",
       "        [ 4,  5,  6,  7],\n",
       "        [ 8,  9, 10, 11]],\n",
       "\n",
       "       [[12, 13, 14, 15],\n",
       "        [16, 17, 18, 19],\n",
       "        [20, 21, 22, 23]]])"
      ]
     },
     "execution_count": 8,
     "metadata": {},
     "output_type": "execute_result"
    }
   ],
   "source": [
    "#Q NO 8\n",
    "np.arange(24).reshape(2,3,4)"
   ]
  },
  {
   "cell_type": "code",
   "execution_count": 9,
   "metadata": {},
   "outputs": [
    {
     "data": {
      "text/plain": [
       "array([[1.        , 1.21052632, 1.42105263, 1.63157895, 1.84210526],\n",
       "       [2.05263158, 2.26315789, 2.47368421, 2.68421053, 2.89473684],\n",
       "       [3.10526316, 3.31578947, 3.52631579, 3.73684211, 3.94736842],\n",
       "       [4.15789474, 4.36842105, 4.57894737, 4.78947368, 5.        ]])"
      ]
     },
     "execution_count": 9,
     "metadata": {},
     "output_type": "execute_result"
    }
   ],
   "source": [
    "# Q NO 9\n",
    "np.linspace(1,5,20).reshape(4,5)"
   ]
  },
  {
   "cell_type": "code",
   "execution_count": 10,
   "metadata": {},
   "outputs": [
    {
     "data": {
      "text/plain": [
       "array([0.94871473, 0.54849638, 0.47637295, 0.78323215, 0.99190915,\n",
       "       0.85348565, 0.45709666, 0.70003474, 0.53402116, 0.96365624])"
      ]
     },
     "execution_count": 10,
     "metadata": {},
     "output_type": "execute_result"
    }
   ],
   "source": [
    "#Q NO 10\n",
    "np.random.rand(10)"
   ]
  },
  {
   "cell_type": "code",
   "execution_count": 11,
   "metadata": {},
   "outputs": [
    {
     "data": {
      "text/plain": [
       "array([[ 1.45390118, -0.82913606,  0.7664135 , -1.8288663 , -0.01097996,\n",
       "         1.36792672],\n",
       "       [ 0.04289405,  0.55429813, -1.33062211,  1.25036349, -1.20316948,\n",
       "        -0.12634273],\n",
       "       [-0.19122278,  2.21631063,  0.18494343,  1.62820277,  0.57199323,\n",
       "         0.0599625 ]])"
      ]
     },
     "execution_count": 11,
     "metadata": {},
     "output_type": "execute_result"
    }
   ],
   "source": [
    "#Q NO 11\n",
    "np.random.randn(3,6)"
   ]
  },
  {
   "cell_type": "code",
   "execution_count": 12,
   "metadata": {},
   "outputs": [
    {
     "data": {
      "text/plain": [
       "array([[5, 6, 6, 7],\n",
       "       [8, 7, 6, 6],\n",
       "       [6, 8, 8, 5]])"
      ]
     },
     "execution_count": 12,
     "metadata": {},
     "output_type": "execute_result"
    }
   ],
   "source": [
    "#Q NO 12\n",
    "np.random.randint(5,9,12).reshape(3,4)"
   ]
  },
  {
   "cell_type": "code",
   "execution_count": 13,
   "metadata": {},
   "outputs": [
    {
     "name": "stdout",
     "output_type": "stream",
     "text": [
      "17 8 14 32 26\n"
     ]
    }
   ],
   "source": [
    "#Q NO 13\n",
    "v =[17, 32, 26, 23, 8, 8, 17, 14, 26, 14, 23, 20, 32, 8, 26]\n",
    "v = np.array(v) \n",
    "print(v[0],v[4],v[-6],v[-3],v[-1])   "
   ]
  },
  {
   "cell_type": "code",
   "execution_count": 14,
   "metadata": {},
   "outputs": [
    {
     "name": "stdout",
     "output_type": "stream",
     "text": [
      "[17 32 26 23  8  8 17 14 26 14 23 20 32  8 26]\n",
      "[17 32 26 23  8  8 17 14 26 14 23 20 32  8 26]\n",
      "[32 26 23  8  8 17 14 26 14 23 20 32  8]\n",
      "[20 32  8 26]\n",
      "[23 20 32]\n"
     ]
    }
   ],
   "source": [
    "#Q NO 14\n",
    "print(v[:])\n",
    "print(v[0:])\n",
    "print(v[1:-1])\n",
    "print(v[-4:])\n",
    "print(v[-5:-2])"
   ]
  },
  {
   "cell_type": "code",
   "execution_count": 24,
   "metadata": {},
   "outputs": [
    {
     "name": "stdout",
     "output_type": "stream",
     "text": [
      "[[42 24 23 94  1 37 86]\n",
      " [15 69 83 30 92 85 12]\n",
      " [68 48 37 82 29 49 98]\n",
      " [22 83 44 28 77  4 91]\n",
      " [37 42 42 56  3 52 35]\n",
      " [54 65 62 91 34 63 68]]\n",
      "86\n",
      "68\n",
      "92\n",
      "28\n"
     ]
    }
   ],
   "source": [
    "#Q NO 15\n",
    "mat = np.random.randint(1,100,(6,7))\n",
    "print(mat)\n",
    "print(mat[0][-1])\n",
    "print(mat[-1][-1])\n",
    "print(mat[1][4])\n",
    "print(mat[-3][-4])"
   ]
  },
  {
   "cell_type": "code",
   "execution_count": 26,
   "metadata": {},
   "outputs": [
    {
     "name": "stdout",
     "output_type": "stream",
     "text": [
      "[68 48 37 82 29 49 98]\n",
      "[ 1 92 29 77  3 34]\n",
      "[[23 94  1 37 86]\n",
      " [83 30 92 85 12]\n",
      " [37 82 29 49 98]]\n",
      "[ 3 52]\n"
     ]
    }
   ],
   "source": [
    "#Q NO 16\n",
    "print(mat[2,:])\n",
    "print(mat[:,4])\n",
    "print(mat[:3,2:])\n",
    "print(mat[-2,-3:-1])"
   ]
  },
  {
   "cell_type": "code",
   "execution_count": 17,
   "metadata": {},
   "outputs": [
    {
     "name": "stdout",
     "output_type": "stream",
     "text": [
      "[17 32 26 23  0  0  0  0  0  0  0  0  0  0  0]\n",
      "[17 32 26 23  8  8 17 14 26 14 23 20 32  8 26]\n"
     ]
    }
   ],
   "source": [
    "#Q NO 17\n",
    "copy_v = np.copy(v)\n",
    "copy_v[4:] = 0\n",
    "print(copy_v)\n",
    "print(v)"
   ]
  },
  {
   "cell_type": "code",
   "execution_count": 18,
   "metadata": {},
   "outputs": [
    {
     "name": "stdout",
     "output_type": "stream",
     "text": [
      "Magnitude of a &b are: 5.0 and 13.0\n",
      "Dot product of a & b is:  63\n",
      "Cross product of a & b is:  16\n",
      "Cos Angle is 14.250032697803595\n",
      "Sine Angle is 14.250032697803595\n"
     ]
    }
   ],
   "source": [
    "# Q NO 18\n",
    "\n",
    "a= [3,4]\n",
    "b=[5,12]\n",
    "\n",
    "#Creating Array\n",
    "arr_a = np.array(a)\n",
    "arr_b = np.array(b)\n",
    "\n",
    "#Finding Magnitude\n",
    "mag_a = np.linalg.norm(arr_a)\n",
    "mag_b = np.linalg.norm(arr_b)\n",
    "print('Magnitude of a &b are:',mag_a ,'and', mag_b )\n",
    "\n",
    "#Dot Product\n",
    "dot_product = np.dot(arr_a,arr_b)\n",
    "print('Dot product of a & b is: ',dot_product)\n",
    "\n",
    "#Cross Product\n",
    "cross_product = np.cross(arr_a,arr_b)\n",
    "print('Cross product of a & b is: ',cross_product)\n",
    "\n",
    "#Cos Angle\n",
    "cos = dot_product / (mag_a * mag_b)\n",
    "cos_rad = np.arccos(cos)\n",
    "cos_degree = (cos_rad * 180) / np.pi\n",
    "print('Cos Angle is',cos_degree)\n",
    "\n",
    "#Sine Angle\n",
    "sine = cross_product / (mag_a * mag_b)\n",
    "sine_rad = np.arcsin(sine)\n",
    "sine_degree = (sine_rad * 180) / np.pi\n",
    "print('Sine Angle is',sine_degree)\n"
   ]
  },
  {
   "cell_type": "code",
   "execution_count": 19,
   "metadata": {},
   "outputs": [
    {
     "name": "stdout",
     "output_type": "stream",
     "text": [
      "[[18 17 12]\n",
      " [19 19 16]\n",
      " [15 14 13]]\n"
     ]
    }
   ],
   "source": [
    "#Q NO 19\n",
    "sqr_mat = np.random.randint(9,21,9).reshape(3,3)\n",
    "print(sqr_mat)"
   ]
  },
  {
   "cell_type": "code",
   "execution_count": 20,
   "metadata": {},
   "outputs": [
    {
     "name": "stdout",
     "output_type": "stream",
     "text": [
      "Diagonal Elements are:  [18 19 13]\n",
      "Inverse Matrix is:  [[ 0.34328358 -0.79104478  0.65671642]\n",
      " [-0.10447761  0.80597015 -0.89552239]\n",
      " [-0.28358209  0.04477612  0.28358209]]\n"
     ]
    }
   ],
   "source": [
    "#Q NO 20\n",
    "\n",
    "inv = np.linalg.inv(sqr_mat)\n",
    "diag_elems = np.diag(sqr_mat)\n",
    "\n",
    "print('Diagonal Elements are: ',diag_elems)\n",
    "print('Inverse Matrix is: ',inv)\n"
   ]
  },
  {
   "cell_type": "code",
   "execution_count": 21,
   "metadata": {},
   "outputs": [
    {
     "data": {
      "text/plain": [
       "array([[1, 0, 0],\n",
       "       [0, 4, 0],\n",
       "       [0, 0, 3]])"
      ]
     },
     "execution_count": 21,
     "metadata": {},
     "output_type": "execute_result"
    }
   ],
   "source": [
    "#Q NO 21\n",
    "np.diag([1,4,3])"
   ]
  },
  {
   "cell_type": "code",
   "execution_count": null,
   "metadata": {},
   "outputs": [],
   "source": []
  }
 ],
 "metadata": {
  "kernelspec": {
   "display_name": "Python 3",
   "language": "python",
   "name": "python3"
  },
  "language_info": {
   "codemirror_mode": {
    "name": "ipython",
    "version": 3
   },
   "file_extension": ".py",
   "mimetype": "text/x-python",
   "name": "python",
   "nbconvert_exporter": "python",
   "pygments_lexer": "ipython3",
   "version": "3.7.3"
  }
 },
 "nbformat": 4,
 "nbformat_minor": 2
}
